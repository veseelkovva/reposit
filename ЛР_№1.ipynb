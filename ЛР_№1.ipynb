{
  "nbformat": 4,
  "nbformat_minor": 0,
  "metadata": {
    "colab": {
      "provenance": [],
      "toc_visible": true,
      "include_colab_link": true
    },
    "kernelspec": {
      "name": "python3",
      "display_name": "Python 3"
    },
    "language_info": {
      "name": "python"
    }
  },
  "cells": [
    {
      "cell_type": "markdown",
      "metadata": {
        "id": "view-in-github",
        "colab_type": "text"
      },
      "source": [
        "<a href=\"https://colab.research.google.com/github/veseelkovva/reposit/blob/main/%D0%9B%D0%A0_%E2%84%961.ipynb\" target=\"_parent\"><img src=\"https://colab.research.google.com/assets/colab-badge.svg\" alt=\"Open In Colab\"/></a>"
      ]
    },
    {
      "cell_type": "markdown",
      "source": [
        "Примеры использования Markdown\n",
        "1. Kihaev\n",
        "2. Vracheva\n",
        "3. Veselkova\n",
        "\n",
        "\n",
        "\n",
        "![nstu___.gif](data:image/gif;base64,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)\n",
        "\n",
        "\n",
        "\n",
        "\n",
        "|name | возраст|\n",
        "------- |----------\n",
        "|egor  | 18\n",
        "соня   | 18\n",
        "\n",
        "\n",
        "[Руководство по Markdown](http://konvut.github.io/k50articles/)"
      ],
      "metadata": {
        "id": "JR95Mt2JIVa0"
      }
    },
    {
      "cell_type": "code",
      "source": [
        "from google.colab import drive\n",
        "drive.mount('/content/drive')"
      ],
      "metadata": {
        "id": "v4F2D_A5OUQt"
      },
      "execution_count": null,
      "outputs": []
    }
  ]
}